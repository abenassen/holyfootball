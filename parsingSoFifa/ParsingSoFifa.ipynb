{
 "cells": [
  {
   "cell_type": "code",
   "execution_count": 1,
   "metadata": {
    "collapsed": true
   },
   "outputs": [],
   "source": [
    "import requests"
   ]
  },
  {
   "cell_type": "code",
   "execution_count": 2,
   "metadata": {
    "collapsed": true
   },
   "outputs": [],
   "source": [
    "requests.packages.urllib3.util.ssl_.DEFAULT_CIPHERS += \":GCM-SHA256\""
   ]
  },
  {
   "cell_type": "code",
   "execution_count": 4,
   "metadata": {},
   "outputs": [],
   "source": [
    "response = requests.get('https://sofifa.com/players?gender=0&lg%5B0%5D=31&offset=240')"
   ]
  },
  {
   "cell_type": "code",
   "execution_count": 5,
   "metadata": {},
   "outputs": [
    {
     "data": {
      "text/plain": [
       "200"
      ]
     },
     "execution_count": 5,
     "metadata": {},
     "output_type": "execute_result"
    }
   ],
   "source": [
    "response.status_code"
   ]
  },
  {
   "cell_type": "code",
   "execution_count": 7,
   "metadata": {
    "collapsed": true
   },
   "outputs": [],
   "source": [
    "soup = BeautifulSoup(response.content, 'html.parser')"
   ]
  },
  {
   "cell_type": "code",
   "execution_count": 12,
   "metadata": {},
   "outputs": [],
   "source": [
    "divs = soup.find_all(\"div\", class_=\"col-name text-clip rtl\")"
   ]
  },
  {
   "cell_type": "code",
   "execution_count": 16,
   "metadata": {},
   "outputs": [],
   "source": [
    "tag = divs[0]"
   ]
  },
  {
   "cell_type": "code",
   "execution_count": 32,
   "metadata": {},
   "outputs": [],
   "source": [
    "nextnexttag = tag.a.next_sibling.next_sibling"
   ]
  },
  {
   "cell_type": "code",
   "execution_count": 19,
   "metadata": {},
   "outputs": [
    {
     "data": {
      "text/plain": [
       "<div class=\"col-name text-clip rtl\"><a href=\"/players?na=22\" rel=\"nofollow\"><span class=\"n n22\" title=\"Greece\"></span></a> <a class=\"\" href=\"/player/190084\" title=\"Panagiotis Tachtsidis\">P. Tachtsidis</a> <mark>L</mark><div class=\"text-clip rtl\">\\n<a href=\"/players?pn=10\" rel=\"nofollow\"><span class=\"pos pos10\">CDM</span></a> <a href=\"/players?pn=14\" rel=\"nofollow\"><span class=\"pos pos14\">CM</span></a></div></div>"
      ]
     },
     "execution_count": 19,
     "metadata": {},
     "output_type": "execute_result"
    }
   ],
   "source": [
    "tag"
   ]
  },
  {
   "cell_type": "code",
   "execution_count": 35,
   "metadata": {},
   "outputs": [
    {
     "data": {
      "text/plain": [
       "u'Panagiotis Tachtsidis'"
      ]
     },
     "execution_count": 35,
     "metadata": {},
     "output_type": "execute_result"
    }
   ],
   "source": [
    "nextnexttag.attrs['title']"
   ]
  },
  {
   "cell_type": "code",
   "execution_count": 36,
   "metadata": {},
   "outputs": [
    {
     "data": {
      "text/plain": [
       "<div class=\"col-name text-clip rtl\"><figure class=\"avatar avatar-sm\"><img class=\"team\" data-src=\"https://cdn.sofifa.org/24/17/teams/1842.png\"/></figure> <a href=\"/team/1842\">Cagliari</a><div class=\"subtitle text-clip rtl\">Jun 30, 2017 (Torino)</div></div>"
      ]
     },
     "execution_count": 36,
     "metadata": {},
     "output_type": "execute_result"
    }
   ],
   "source": [
    "divs[1]"
   ]
  },
  {
   "cell_type": "code",
   "execution_count": 37,
   "metadata": {},
   "outputs": [
    {
     "data": {
      "text/plain": [
       "<div class=\"col-name text-clip rtl\"><a href=\"/players?na=33\" rel=\"nofollow\"><span class=\"n n33\" title=\"Moldova\"></span></a> <a class=\"\" href=\"/player/192587\" title=\"Artur Ioni\\u0163\\u0103\">A. Ioni\\u0163\\u0103</a><div class=\"text-clip rtl\">\\n<a href=\"/players?pn=14\" rel=\"nofollow\"><span class=\"pos pos14\">CM</span></a> <a href=\"/players?pn=18\" rel=\"nofollow\"><span class=\"pos pos18\">CAM</span></a> <a href=\"/players?pn=10\" rel=\"nofollow\"><span class=\"pos pos10\">CDM</span></a></div></div>"
      ]
     },
     "execution_count": 37,
     "metadata": {},
     "output_type": "execute_result"
    }
   ],
   "source": [
    "divs[2]"
   ]
  },
  {
   "cell_type": "code",
   "execution_count": 38,
   "metadata": {},
   "outputs": [
    {
     "data": {
      "text/plain": [
       "<div class=\"col-name text-clip rtl\"><figure class=\"avatar avatar-sm\"><img class=\"team\" data-src=\"https://cdn.sofifa.org/24/17/teams/1842.png\"/></figure> <a href=\"/team/1842\">Cagliari</a><div class=\"subtitle text-clip rtl\">2016 ~ 2019</div></div>"
      ]
     },
     "execution_count": 38,
     "metadata": {},
     "output_type": "execute_result"
    }
   ],
   "source": [
    "divs[3]"
   ]
  },
  {
   "cell_type": "code",
   "execution_count": null,
   "metadata": {
    "collapsed": true
   },
   "outputs": [],
   "source": []
  }
 ],
 "metadata": {
  "kernelspec": {
   "display_name": "Python 2",
   "language": "python",
   "name": "python2"
  },
  "language_info": {
   "codemirror_mode": {
    "name": "ipython",
    "version": 2
   },
   "file_extension": ".py",
   "mimetype": "text/x-python",
   "name": "python",
   "nbconvert_exporter": "python",
   "pygments_lexer": "ipython2",
   "version": "2.7.10"
  }
 },
 "nbformat": 4,
 "nbformat_minor": 2
}
